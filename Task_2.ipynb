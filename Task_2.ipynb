{
  "nbformat": 4,
  "nbformat_minor": 0,
  "metadata": {
    "colab": {
      "name": "Task_2",
      "provenance": []
    },
    "kernelspec": {
      "name": "python3",
      "display_name": "Python 3"
    },
    "language_info": {
      "name": "python"
    }
  },
  "cells": [
    {
      "cell_type": "markdown",
      "source": [
        "**Import required libraries**"
      ],
      "metadata": {
        "id": "iwN9Qzks2T7u"
      }
    },
    {
      "cell_type": "code",
      "execution_count": null,
      "metadata": {
        "id": "dtXE2yT9zb1N"
      },
      "outputs": [],
      "source": [
        "import tensorflow as tsf\n",
        "from numpy import unique,argmax\n",
        "from matplotlib import pyplot\n",
        "import matplotlib.pyplot as plt\n",
        "import numpy as np"
      ]
    },
    {
      "cell_type": "markdown",
      "source": [
        "**Load the dataset**"
      ],
      "metadata": {
        "id": "6UPnECiH2ST1"
      }
    },
    {
      "cell_type": "code",
      "source": [
        "mnist = tsf.keras.datasets.mnist\n",
        "(x_train,y_train),(x_test,y_test) = mnist.load_data()"
      ],
      "metadata": {
        "colab": {
          "base_uri": "https://localhost:8080/"
        },
        "id": "89WIW16H27Fx",
        "outputId": "f15c547b-5f54-4d32-e0ab-23059b8f7317"
      },
      "execution_count": null,
      "outputs": [
        {
          "output_type": "stream",
          "name": "stdout",
          "text": [
            "Downloading data from https://storage.googleapis.com/tensorflow/tf-keras-datasets/mnist.npz\n",
            "11493376/11490434 [==============================] - 0s 0us/step\n",
            "11501568/11490434 [==============================] - 0s 0us/step\n"
          ]
        }
      ]
    },
    {
      "cell_type": "markdown",
      "source": [
        "**Reshaping the training and testing dataset**"
      ],
      "metadata": {
        "id": "f38ag6Gw3J74"
      }
    },
    {
      "cell_type": "code",
      "source": [
        "x_train = x_train.reshape((x_train.shape[0],x_train.shape[1],x_train.shape[2],1))\n",
        "x_test = x_test.reshape((x_test.shape[0],x_test.shape[1],x_test.shape[2],1))"
      ],
      "metadata": {
        "id": "SJxEewit3XXS"
      },
      "execution_count": null,
      "outputs": []
    },
    {
      "cell_type": "markdown",
      "source": [
        "**Normalize the value of pixels in images**"
      ],
      "metadata": {
        "id": "pJACAqaL3ijM"
      }
    },
    {
      "cell_type": "code",
      "source": [
        "x_train = x_train.astype('float32')/255.0\n",
        "x_test = x_test.astype('float32')/255.0"
      ],
      "metadata": {
        "id": "DU-pMN9X3k7K"
      },
      "execution_count": null,
      "outputs": []
    },
    {
      "cell_type": "code",
      "source": [
        "fig = plt.figure(figsize = (9,3))\n",
        "for i in range(20):\n",
        "    ax = fig.add_subplot(2,10,i+1,xticks =[],yticks = [])\n",
        "    ax.imshow(np.squeeze(x_train[i]),cmap = 'spring')\n",
        "    ax.set_title(y_train[i])"
      ],
      "metadata": {
        "colab": {
          "base_uri": "https://localhost:8080/",
          "height": 182
        },
        "id": "91GXrXvk3siM",
        "outputId": "fc4286db-8ff3-4726-e23d-1ee61cdb86f2"
      },
      "execution_count": null,
      "outputs": [
        {
          "output_type": "display_data",
          "data": {
            "text/plain": [
              "<Figure size 648x216 with 20 Axes>"
            ],
            "image/png": "[encoded data removed]"
          },
          "metadata": {}
        }
      ]
    },
    {
      "cell_type": "markdown",
      "source": [
        "**Determine the shape of input image**"
      ],
      "metadata": {
        "id": "Be9dZ2Mf34sn"
      }
    },
    {
      "cell_type": "code",
      "source": [
        "img_shape = x_train.shape[1:]\n",
        "img_shape"
      ],
      "metadata": {
        "colab": {
          "base_uri": "https://localhost:8080/"
        },
        "id": "k_rDUimI36h8",
        "outputId": "a31700df-3f71-4dfe-e506-480e24c73ff5"
      },
      "execution_count": null,
      "outputs": [
        {
          "output_type": "execute_result",
          "data": {
            "text/plain": [
              "(28, 28, 1)"
            ]
          },
          "metadata": {},
          "execution_count": 6
        }
      ]
    },
    {
      "cell_type": "markdown",
      "source": [
        "**Define the model**"
      ],
      "metadata": {
        "id": "m8D1PW7D5QM9"
      }
    },
    {
      "cell_type": "code",
      "source": [
        "import tensorflow as tfs\n",
        "model = tsf.keras.models.Sequential([tsf.keras.layers.Flatten(input_shape=(28, 28)),\n",
        "\n",
        "  tsf.keras.layers.Dense(128, activation='relu'),\n",
        "\n",
        "  tsf.keras.layers.Dropout(0.2),\n",
        "\n",
        "  tsf.keras.layers.Dense(10)])"
      ],
      "metadata": {
        "id": "bVUML-AQ5SHZ"
      },
      "execution_count": null,
      "outputs": []
    },
    {
      "cell_type": "code",
      "source": [
        "model.summary()"
      ],
      "metadata": {
        "colab": {
          "base_uri": "https://localhost:8080/"
        },
        "id": "HtNAZ4_A5V4Z",
        "outputId": "a9476a61-ff45-455f-f1e1-f7a2b70fab0a"
      },
      "execution_count": null,
      "outputs": [
        {
          "output_type": "stream",
          "name": "stdout",
          "text": [
            "Model: \"sequential\"\n",
            "_________________________________________________________________\n",
            " Layer (type)                Output Shape              Param #   \n",
            "=================================================================\n",
            " flatten (Flatten)           (None, 784)               0         \n",
            "                                                                 \n",
            " dense (Dense)               (None, 128)               100480    \n",
            "                                                                 \n",
            " dropout (Dropout)           (None, 128)               0         \n",
            "                                                                 \n",
            " dense_1 (Dense)             (None, 10)                1290      \n",
            "                                                                 \n",
            "=================================================================\n",
            "Total params: 101,770\n",
            "Trainable params: 101,770\n",
            "Non-trainable params: 0\n",
            "_________________________________________________________________\n"
          ]
        }
      ]
    },
    {
      "cell_type": "code",
      "source": [
        "!pip install graphviz "
      ],
      "metadata": {
        "colab": {
          "base_uri": "https://localhost:8080/"
        },
        "id": "8UaV92Eg5arL",
        "outputId": "b4209c37-99b3-4e43-e102-862fd00c3ae5"
      },
      "execution_count": null,
      "outputs": [
        {
          "output_type": "stream",
          "name": "stdout",
          "text": [
            "Requirement already satisfied: graphviz in /usr/local/lib/python3.7/dist-packages (0.10.1)\n"
          ]
        }
      ]
    },
    {
      "cell_type": "code",
      "source": [
        "!pip install pydot"
      ],
      "metadata": {
        "colab": {
          "base_uri": "https://localhost:8080/"
        },
        "id": "dO3RheBR5awc",
        "outputId": "56c5e9f4-46b3-4524-dfac-e9fe6e963e4f"
      },
      "execution_count": null,
      "outputs": [
        {
          "output_type": "stream",
          "name": "stdout",
          "text": [
            "Requirement already satisfied: pydot in /usr/local/lib/python3.7/dist-packages (1.3.0)\n",
            "Requirement already satisfied: pyparsing>=2.1.4 in /usr/local/lib/python3.7/dist-packages (from pydot) (3.0.8)\n"
          ]
        }
      ]
    },
    {
      "cell_type": "code",
      "source": [
        "!pip install keras"
      ],
      "metadata": {
        "colab": {
          "base_uri": "https://localhost:8080/"
        },
        "id": "0SMG9l_-5a16",
        "outputId": "f09a4c47-8f2d-4f11-82c4-72dcfc94b59b"
      },
      "execution_count": null,
      "outputs": [
        {
          "output_type": "stream",
          "name": "stdout",
          "text": [
            "Requirement already satisfied: keras in /usr/local/lib/python3.7/dist-packages (2.8.0)\n"
          ]
        }
      ]
    },
    {
      "cell_type": "code",
      "source": [
        "predictions = model(x_train[:1]).numpy()\n",
        "\n",
        "predictions"
      ],
      "metadata": {
        "colab": {
          "base_uri": "https://localhost:8080/"
        },
        "id": "MKu6YQy85a8_",
        "outputId": "21731d19-4116-4b52-f1be-f734d5af0df5"
      },
      "execution_count": null,
      "outputs": [
        {
          "output_type": "execute_result",
          "data": {
            "text/plain": [
              "array([[-0.15696643,  0.16207924,  1.1627783 ,  0.10840061, -0.7404061 ,\n",
              "        -0.7556015 ,  0.11365962,  0.7375119 ,  0.008075  ,  0.1878801 ]],\n",
              "      dtype=float32)"
            ]
          },
          "metadata": {},
          "execution_count": 12
        }
      ]
    },
    {
      "cell_type": "code",
      "source": [
        "tsf.nn.softmax(predictions).numpy()"
      ],
      "metadata": {
        "colab": {
          "base_uri": "https://localhost:8080/"
        },
        "id": "7cF6dafu5bEu",
        "outputId": "883a0af7-4860-41fe-f1f1-f60d1d5e6e08"
      },
      "execution_count": null,
      "outputs": [
        {
          "output_type": "execute_result",
          "data": {
            "text/plain": [
              "array([[0.0672143 , 0.09247439, 0.25154722, 0.08764136, 0.03750395,\n",
              "        0.03693837, 0.08810349, 0.16441016, 0.07927537, 0.09489135]],\n",
              "      dtype=float32)"
            ]
          },
          "metadata": {},
          "execution_count": 13
        }
      ]
    },
    {
      "cell_type": "markdown",
      "source": [
        "**Compiling the model**"
      ],
      "metadata": {
        "id": "rr44T-L85mcL"
      }
    },
    {
      "cell_type": "code",
      "source": [
        "loss_fn = tsf.keras.losses.SparseCategoricalCrossentropy(from_logits=True)\n",
        "loss_fn(y_train[:1], predictions).numpy()\n",
        "model.compile(optimizer='adam',loss=loss_fn, metrics=['accuracy'])"
      ],
      "metadata": {
        "id": "Jbe3Z27x5rZj"
      },
      "execution_count": null,
      "outputs": []
    },
    {
      "cell_type": "markdown",
      "source": [
        "**Train the model**"
      ],
      "metadata": {
        "id": "KuNG-tQO5teE"
      }
    },
    {
      "cell_type": "code",
      "source": [
        "model.fit(x_train, y_train, epochs=5)"
      ],
      "metadata": {
        "colab": {
          "base_uri": "https://localhost:8080/"
        },
        "id": "OseJAYDZ5uug",
        "outputId": "190d5fa2-c5ca-4a3e-a783-c292e6e4cbab"
      },
      "execution_count": null,
      "outputs": [
        {
          "output_type": "stream",
          "name": "stdout",
          "text": [
            "Epoch 1/5\n",
            "1875/1875 [==============================] - 9s 4ms/step - loss: 0.2932 - accuracy: 0.9145\n",
            "Epoch 2/5\n",
            "1875/1875 [==============================] - 9s 5ms/step - loss: 0.1434 - accuracy: 0.9571\n",
            "Epoch 3/5\n",
            "1875/1875 [==============================] - 8s 4ms/step - loss: 0.1056 - accuracy: 0.9672\n",
            "Epoch 4/5\n",
            "1875/1875 [==============================] - 5s 3ms/step - loss: 0.0873 - accuracy: 0.9735\n",
            "Epoch 5/5\n",
            "1875/1875 [==============================] - 4s 2ms/step - loss: 0.0763 - accuracy: 0.9758\n"
          ]
        },
        {
          "output_type": "execute_result",
          "data": {
            "text/plain": [
              "<keras.callbacks.History at 0x7f9069cc0b50>"
            ]
          },
          "metadata": {},
          "execution_count": 15
        }
      ]
    },
    {
      "cell_type": "markdown",
      "source": [
        "**Model evaluation**"
      ],
      "metadata": {
        "id": "wnz-6nIL5wY_"
      }
    },
    {
      "cell_type": "code",
      "source": [
        "model.evaluate(x_test,  y_test, verbose=5)"
      ],
      "metadata": {
        "colab": {
          "base_uri": "https://localhost:8080/"
        },
        "id": "8-TuCsYp50Mj",
        "outputId": "946a75f6-b7ea-4b57-ff87-c69ce7ef1940"
      },
      "execution_count": null,
      "outputs": [
        {
          "output_type": "execute_result",
          "data": {
            "text/plain": [
              "[0.07547153532505035, 0.9781000018119812]"
            ]
          },
          "metadata": {},
          "execution_count": 16
        }
      ]
    },
    {
      "cell_type": "markdown",
      "source": [
        "**Probablity of the model**"
      ],
      "metadata": {
        "id": "TdEdom6W54Lx"
      }
    },
    {
      "cell_type": "code",
      "source": [
        "probability_model = tsf.keras.Sequential([ model, tsf.keras.layers.Softmax() ])\n",
        "probability_model(x_test[:5])"
      ],
      "metadata": {
        "colab": {
          "base_uri": "https://localhost:8080/"
        },
        "id": "1BjJfYqb575m",
        "outputId": "9a485377-9eed-4b65-c271-012417393f38"
      },
      "execution_count": null,
      "outputs": [
        {
          "output_type": "execute_result",
          "data": {
            "text/plain": [
              "<tf.Tensor: shape=(5, 10), dtype=float32, numpy=\n",
              "array([[7.4406530e-09, 1.4574003e-09, 9.3376784e-06, 2.0117413e-04,\n",
              "        2.1803124e-11, 1.3281240e-07, 5.4844389e-12, 9.9978775e-01,\n",
              "        3.9300552e-08, 1.6181714e-06],\n",
              "       [1.8871595e-10, 7.6282508e-06, 9.9998033e-01, 1.1436716e-05,\n",
              "        5.1902668e-15, 4.4496762e-08, 2.2229960e-08, 5.7265471e-15,\n",
              "        6.3718647e-07, 2.1250605e-12],\n",
              "       [3.7695858e-07, 9.9929881e-01, 1.7971380e-04, 5.2201999e-06,\n",
              "        2.6564270e-05, 3.0321137e-06, 1.5277712e-05, 3.9401621e-04,\n",
              "        7.5241420e-05, 1.8679507e-06],\n",
              "       [9.9945956e-01, 2.4705146e-10, 1.5290774e-04, 5.0551334e-06,\n",
              "        5.3229667e-07, 3.9348233e-05, 3.1721190e-04, 1.6948546e-07,\n",
              "        3.2431224e-06, 2.2037337e-05],\n",
              "       [4.8005467e-07, 4.7192050e-10, 8.8995370e-07, 2.3120192e-08,\n",
              "        9.9931180e-01, 1.9234820e-07, 1.3025218e-06, 3.2391548e-05,\n",
              "        5.8281216e-07, 6.5233442e-04]], dtype=float32)>"
            ]
          },
          "metadata": {},
          "execution_count": 17
        }
      ]
    },
    {
      "cell_type": "markdown",
      "source": [
        "**Testing the model**"
      ],
      "metadata": {
        "id": "cHSATgBg5-Xf"
      }
    },
    {
      "cell_type": "code",
      "source": [
        "img = x_train[3]\n",
        "plt.imshow(np.squeeze(img) ,cmap='gray')\n",
        "plt.show()"
      ],
      "metadata": {
        "colab": {
          "base_uri": "https://localhost:8080/",
          "height": 265
        },
        "id": "HiZPZYLc6Bx_",
        "outputId": "059c6a99-b9d6-4a27-c695-df9f244ce33d"
      },
      "execution_count": null,
      "outputs": [
        {
          "output_type": "display_data",
          "data": {
            "text/plain": [
              "<Figure size 432x288 with 1 Axes>"
            ],
            "image/png": "[encoded data removed]"
          },
          "metadata": {
            "needs_background": "light"
          }
        }
      ]
    }
  ]
}